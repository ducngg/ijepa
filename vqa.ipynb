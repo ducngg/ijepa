{
 "cells": [
  {
   "cell_type": "code",
   "execution_count": null,
   "id": "6d7329a6-7d2e-4764-8b45-d772b0691958",
   "metadata": {},
   "outputs": [],
   "source": [
    "!pip install datasets"
   ]
  },
  {
   "cell_type": "code",
   "execution_count": null,
   "id": "742c5ac6-bda4-48a6-92d6-0d53bd7e1a45",
   "metadata": {},
   "outputs": [
    {
     "data": {
      "application/vnd.jupyter.widget-view+json": {
       "model_id": "57d78b34b77d4962883a8b350e020912",
       "version_major": 2,
       "version_minor": 0
      },
      "text/plain": [
       "README.md:   0%|          | 0.00/962 [00:00<?, ?B/s]"
      ]
     },
     "metadata": {},
     "output_type": "display_data"
    },
    {
     "data": {
      "application/vnd.jupyter.widget-view+json": {
       "model_id": "f1e9ef17406e4d44aad9fac16e5ce8c2",
       "version_major": 2,
       "version_minor": 0
      },
      "text/plain": [
       "Resolving data files:   0%|          | 0/68 [00:00<?, ?it/s]"
      ]
     },
     "metadata": {},
     "output_type": "display_data"
    },
    {
     "data": {
      "application/vnd.jupyter.widget-view+json": {
       "model_id": "a2db14e030b84c2b8b8854f8cca75ac6",
       "version_major": 2,
       "version_minor": 0
      },
      "text/plain": [
       "Resolving data files:   0%|          | 0/36 [00:00<?, ?it/s]"
      ]
     },
     "metadata": {},
     "output_type": "display_data"
    },
    {
     "data": {
      "application/vnd.jupyter.widget-view+json": {
       "model_id": "82fb5e1c25db42239cd140028b21621a",
       "version_major": 2,
       "version_minor": 0
      },
      "text/plain": [
       "Resolving data files:   0%|          | 0/143 [00:00<?, ?it/s]"
      ]
     },
     "metadata": {},
     "output_type": "display_data"
    },
    {
     "data": {
      "application/vnd.jupyter.widget-view+json": {
       "model_id": "5a25ece3145948ca9bbeb114c130c24e",
       "version_major": 2,
       "version_minor": 0
      },
      "text/plain": [
       "Resolving data files:   0%|          | 0/68 [00:00<?, ?it/s]"
      ]
     },
     "metadata": {},
     "output_type": "display_data"
    },
    {
     "data": {
      "application/vnd.jupyter.widget-view+json": {
       "model_id": "6ffcb1f8699848c89cf05ba97018a437",
       "version_major": 2,
       "version_minor": 0
      },
      "text/plain": [
       "Resolving data files:   0%|          | 0/36 [00:00<?, ?it/s]"
      ]
     },
     "metadata": {},
     "output_type": "display_data"
    },
    {
     "data": {
      "application/vnd.jupyter.widget-view+json": {
       "model_id": "1b5b167a79b847e9bdd8241272ecbcdb",
       "version_major": 2,
       "version_minor": 0
      },
      "text/plain": [
       "Resolving data files:   0%|          | 0/143 [00:00<?, ?it/s]"
      ]
     },
     "metadata": {},
     "output_type": "display_data"
    },
    {
     "data": {
      "application/vnd.jupyter.widget-view+json": {
       "model_id": "8855d542c14449ffb954e78d36b2bc4d",
       "version_major": 2,
       "version_minor": 0
      },
      "text/plain": [
       "Downloading data:   0%|          | 0/68 [00:00<?, ?files/s]"
      ]
     },
     "metadata": {},
     "output_type": "display_data"
    },
    {
     "data": {
      "application/vnd.jupyter.widget-view+json": {
       "model_id": "df488649473544a1a0c40df9aa6726fa",
       "version_major": 2,
       "version_minor": 0
      },
      "text/plain": [
       "validation-00000-of-00068.parquet:   0%|          | 0.00/89.4M [00:00<?, ?B/s]"
      ]
     },
     "metadata": {},
     "output_type": "display_data"
    },
    {
     "data": {
      "application/vnd.jupyter.widget-view+json": {
       "model_id": "63bfc5bdcfa04c5bb6038bea9c26442a",
       "version_major": 2,
       "version_minor": 0
      },
      "text/plain": [
       "validation-00001-of-00068.parquet:   0%|          | 0.00/103M [00:00<?, ?B/s]"
      ]
     },
     "metadata": {},
     "output_type": "display_data"
    },
    {
     "data": {
      "application/vnd.jupyter.widget-view+json": {
       "model_id": "de1652d150f645ada4095a18d311fe04",
       "version_major": 2,
       "version_minor": 0
      },
      "text/plain": [
       "validation-00002-of-00068.parquet:   0%|          | 0.00/98.5M [00:00<?, ?B/s]"
      ]
     },
     "metadata": {},
     "output_type": "display_data"
    },
    {
     "data": {
      "application/vnd.jupyter.widget-view+json": {
       "model_id": "0aa93a974d914b41aa3712f8e1be8638",
       "version_major": 2,
       "version_minor": 0
      },
      "text/plain": [
       "validation-00003-of-00068.parquet:   0%|          | 0.00/103M [00:00<?, ?B/s]"
      ]
     },
     "metadata": {},
     "output_type": "display_data"
    },
    {
     "data": {
      "application/vnd.jupyter.widget-view+json": {
       "model_id": "ec2d7217da264f44876042e19bd0f051",
       "version_major": 2,
       "version_minor": 0
      },
      "text/plain": [
       "validation-00004-of-00068.parquet:   0%|          | 0.00/103M [00:00<?, ?B/s]"
      ]
     },
     "metadata": {},
     "output_type": "display_data"
    },
    {
     "data": {
      "application/vnd.jupyter.widget-view+json": {
       "model_id": "f2df39ffdcf54618a7671694a8e5b9af",
       "version_major": 2,
       "version_minor": 0
      },
      "text/plain": [
       "validation-00005-of-00068.parquet:   0%|          | 0.00/105M [00:00<?, ?B/s]"
      ]
     },
     "metadata": {},
     "output_type": "display_data"
    },
    {
     "data": {
      "application/vnd.jupyter.widget-view+json": {
       "model_id": "f21f10738cd9481db0b647989f9734ce",
       "version_major": 2,
       "version_minor": 0
      },
      "text/plain": [
       "validation-00006-of-00068.parquet:   0%|          | 0.00/102M [00:00<?, ?B/s]"
      ]
     },
     "metadata": {},
     "output_type": "display_data"
    },
    {
     "data": {
      "application/vnd.jupyter.widget-view+json": {
       "model_id": "5c21b00054594d85b379ac1404436688",
       "version_major": 2,
       "version_minor": 0
      },
      "text/plain": [
       "validation-00007-of-00068.parquet:   0%|          | 0.00/104M [00:00<?, ?B/s]"
      ]
     },
     "metadata": {},
     "output_type": "display_data"
    },
    {
     "data": {
      "application/vnd.jupyter.widget-view+json": {
       "model_id": "351e3162bd41417ca51f6c82b240ab94",
       "version_major": 2,
       "version_minor": 0
      },
      "text/plain": [
       "validation-00008-of-00068.parquet:   0%|          | 0.00/103M [00:00<?, ?B/s]"
      ]
     },
     "metadata": {},
     "output_type": "display_data"
    },
    {
     "data": {
      "application/vnd.jupyter.widget-view+json": {
       "model_id": "097c5b661c9345a4a913860c02e183a1",
       "version_major": 2,
       "version_minor": 0
      },
      "text/plain": [
       "validation-00009-of-00068.parquet:   0%|          | 0.00/108M [00:00<?, ?B/s]"
      ]
     },
     "metadata": {},
     "output_type": "display_data"
    },
    {
     "data": {
      "application/vnd.jupyter.widget-view+json": {
       "model_id": "6f90eb5ef3c04f81b8d1d548e303354e",
       "version_major": 2,
       "version_minor": 0
      },
      "text/plain": [
       "validation-00010-of-00068.parquet:   0%|          | 0.00/109M [00:00<?, ?B/s]"
      ]
     },
     "metadata": {},
     "output_type": "display_data"
    },
    {
     "data": {
      "application/vnd.jupyter.widget-view+json": {
       "model_id": "a33697848ed2494097bf3886c59c7ac4",
       "version_major": 2,
       "version_minor": 0
      },
      "text/plain": [
       "validation-00011-of-00068.parquet:   0%|          | 0.00/104M [00:00<?, ?B/s]"
      ]
     },
     "metadata": {},
     "output_type": "display_data"
    },
    {
     "data": {
      "application/vnd.jupyter.widget-view+json": {
       "model_id": "9bf11d7afa694e9f872d646ee8ee0458",
       "version_major": 2,
       "version_minor": 0
      },
      "text/plain": [
       "validation-00012-of-00068.parquet:   0%|          | 0.00/99.7M [00:00<?, ?B/s]"
      ]
     },
     "metadata": {},
     "output_type": "display_data"
    },
    {
     "data": {
      "application/vnd.jupyter.widget-view+json": {
       "model_id": "a24e4e1829db4b30b6efd5dff5f501e6",
       "version_major": 2,
       "version_minor": 0
      },
      "text/plain": [
       "validation-00013-of-00068.parquet:   0%|          | 0.00/97.2M [00:00<?, ?B/s]"
      ]
     },
     "metadata": {},
     "output_type": "display_data"
    },
    {
     "data": {
      "application/vnd.jupyter.widget-view+json": {
       "model_id": "e2a7453222f742998d4fcc410bdc32ed",
       "version_major": 2,
       "version_minor": 0
      },
      "text/plain": [
       "validation-00014-of-00068.parquet:   0%|          | 0.00/107M [00:00<?, ?B/s]"
      ]
     },
     "metadata": {},
     "output_type": "display_data"
    },
    {
     "data": {
      "application/vnd.jupyter.widget-view+json": {
       "model_id": "aedbc6c1c4f546008e486be34fa4932f",
       "version_major": 2,
       "version_minor": 0
      },
      "text/plain": [
       "validation-00015-of-00068.parquet:   0%|          | 0.00/101M [00:00<?, ?B/s]"
      ]
     },
     "metadata": {},
     "output_type": "display_data"
    },
    {
     "data": {
      "application/vnd.jupyter.widget-view+json": {
       "model_id": "773928c6ccb448b9b627d1b0b3f67fa5",
       "version_major": 2,
       "version_minor": 0
      },
      "text/plain": [
       "validation-00016-of-00068.parquet:   0%|          | 0.00/114M [00:00<?, ?B/s]"
      ]
     },
     "metadata": {},
     "output_type": "display_data"
    },
    {
     "data": {
      "application/vnd.jupyter.widget-view+json": {
       "model_id": "9e0a814de97e443e8bd95a5e10dd82bb",
       "version_major": 2,
       "version_minor": 0
      },
      "text/plain": [
       "validation-00017-of-00068.parquet:   0%|          | 0.00/102M [00:00<?, ?B/s]"
      ]
     },
     "metadata": {},
     "output_type": "display_data"
    },
    {
     "data": {
      "application/vnd.jupyter.widget-view+json": {
       "model_id": "3d41ecbd686e4db684df727775bc9a7b",
       "version_major": 2,
       "version_minor": 0
      },
      "text/plain": [
       "validation-00018-of-00068.parquet:   0%|          | 0.00/101M [00:00<?, ?B/s]"
      ]
     },
     "metadata": {},
     "output_type": "display_data"
    },
    {
     "data": {
      "application/vnd.jupyter.widget-view+json": {
       "model_id": "3f24000b091648c9b34da9c82de665c0",
       "version_major": 2,
       "version_minor": 0
      },
      "text/plain": [
       "validation-00019-of-00068.parquet:   0%|          | 0.00/104M [00:00<?, ?B/s]"
      ]
     },
     "metadata": {},
     "output_type": "display_data"
    },
    {
     "data": {
      "application/vnd.jupyter.widget-view+json": {
       "model_id": "65799a504b604f3ca6dfcd2a97167201",
       "version_major": 2,
       "version_minor": 0
      },
      "text/plain": [
       "validation-00020-of-00068.parquet:   0%|          | 0.00/103M [00:00<?, ?B/s]"
      ]
     },
     "metadata": {},
     "output_type": "display_data"
    },
    {
     "data": {
      "application/vnd.jupyter.widget-view+json": {
       "model_id": "5d295f11f97c419e9fc0806e242f3ba0",
       "version_major": 2,
       "version_minor": 0
      },
      "text/plain": [
       "validation-00021-of-00068.parquet:   0%|          | 0.00/99.3M [00:00<?, ?B/s]"
      ]
     },
     "metadata": {},
     "output_type": "display_data"
    },
    {
     "data": {
      "application/vnd.jupyter.widget-view+json": {
       "model_id": "ca9e9d4cd578474b91f4ef9129d199c4",
       "version_major": 2,
       "version_minor": 0
      },
      "text/plain": [
       "validation-00022-of-00068.parquet:   0%|          | 0.00/104M [00:00<?, ?B/s]"
      ]
     },
     "metadata": {},
     "output_type": "display_data"
    },
    {
     "data": {
      "application/vnd.jupyter.widget-view+json": {
       "model_id": "5c0effdb64ee4c8fb37e14a71aa3fa19",
       "version_major": 2,
       "version_minor": 0
      },
      "text/plain": [
       "validation-00023-of-00068.parquet:   0%|          | 0.00/99.0M [00:00<?, ?B/s]"
      ]
     },
     "metadata": {},
     "output_type": "display_data"
    },
    {
     "data": {
      "application/vnd.jupyter.widget-view+json": {
       "model_id": "761e036d4b9541dca7a18708fda959c4",
       "version_major": 2,
       "version_minor": 0
      },
      "text/plain": [
       "validation-00024-of-00068.parquet:   0%|          | 0.00/102M [00:00<?, ?B/s]"
      ]
     },
     "metadata": {},
     "output_type": "display_data"
    },
    {
     "data": {
      "application/vnd.jupyter.widget-view+json": {
       "model_id": "f52a444efffd41a285fb3a5d3b210691",
       "version_major": 2,
       "version_minor": 0
      },
      "text/plain": [
       "validation-00025-of-00068.parquet:   0%|          | 0.00/97.8M [00:00<?, ?B/s]"
      ]
     },
     "metadata": {},
     "output_type": "display_data"
    },
    {
     "data": {
      "application/vnd.jupyter.widget-view+json": {
       "model_id": "c829bb3abd29439aa018aa72b5bac289",
       "version_major": 2,
       "version_minor": 0
      },
      "text/plain": [
       "validation-00026-of-00068.parquet:   0%|          | 0.00/98.5M [00:00<?, ?B/s]"
      ]
     },
     "metadata": {},
     "output_type": "display_data"
    },
    {
     "data": {
      "application/vnd.jupyter.widget-view+json": {
       "model_id": "9108828f8341433ca76ec24192529694",
       "version_major": 2,
       "version_minor": 0
      },
      "text/plain": [
       "validation-00027-of-00068.parquet:   0%|          | 0.00/111M [00:00<?, ?B/s]"
      ]
     },
     "metadata": {},
     "output_type": "display_data"
    },
    {
     "data": {
      "application/vnd.jupyter.widget-view+json": {
       "model_id": "3ac7351fa1a0413289c10fd32df47fa5",
       "version_major": 2,
       "version_minor": 0
      },
      "text/plain": [
       "validation-00028-of-00068.parquet:   0%|          | 0.00/103M [00:00<?, ?B/s]"
      ]
     },
     "metadata": {},
     "output_type": "display_data"
    },
    {
     "data": {
      "application/vnd.jupyter.widget-view+json": {
       "model_id": "8918b23c762f431aa80e6f9237cca607",
       "version_major": 2,
       "version_minor": 0
      },
      "text/plain": [
       "validation-00029-of-00068.parquet:   0%|          | 0.00/102M [00:00<?, ?B/s]"
      ]
     },
     "metadata": {},
     "output_type": "display_data"
    },
    {
     "data": {
      "application/vnd.jupyter.widget-view+json": {
       "model_id": "eb21cbaf7b8a4dc1a1a898ab81aa1e21",
       "version_major": 2,
       "version_minor": 0
      },
      "text/plain": [
       "validation-00030-of-00068.parquet:   0%|          | 0.00/96.2M [00:00<?, ?B/s]"
      ]
     },
     "metadata": {},
     "output_type": "display_data"
    },
    {
     "data": {
      "application/vnd.jupyter.widget-view+json": {
       "model_id": "e85e8a04836241e481fef64b4775d675",
       "version_major": 2,
       "version_minor": 0
      },
      "text/plain": [
       "validation-00031-of-00068.parquet:   0%|          | 0.00/109M [00:00<?, ?B/s]"
      ]
     },
     "metadata": {},
     "output_type": "display_data"
    },
    {
     "data": {
      "application/vnd.jupyter.widget-view+json": {
       "model_id": "5428585bb4eb48c5a73541b23b055a74",
       "version_major": 2,
       "version_minor": 0
      },
      "text/plain": [
       "validation-00032-of-00068.parquet:   0%|          | 0.00/101M [00:00<?, ?B/s]"
      ]
     },
     "metadata": {},
     "output_type": "display_data"
    },
    {
     "data": {
      "application/vnd.jupyter.widget-view+json": {
       "model_id": "2dd170d5f0fc49aaad77691a19097ac1",
       "version_major": 2,
       "version_minor": 0
      },
      "text/plain": [
       "validation-00033-of-00068.parquet:   0%|          | 0.00/97.8M [00:00<?, ?B/s]"
      ]
     },
     "metadata": {},
     "output_type": "display_data"
    },
    {
     "data": {
      "application/vnd.jupyter.widget-view+json": {
       "model_id": "c8c53ed3b6574f9fa878e21a08619dd9",
       "version_major": 2,
       "version_minor": 0
      },
      "text/plain": [
       "validation-00034-of-00068.parquet:   0%|          | 0.00/95.9M [00:00<?, ?B/s]"
      ]
     },
     "metadata": {},
     "output_type": "display_data"
    },
    {
     "data": {
      "application/vnd.jupyter.widget-view+json": {
       "model_id": "bd71e6e25729413e808135d81ed5e6dc",
       "version_major": 2,
       "version_minor": 0
      },
      "text/plain": [
       "validation-00035-of-00068.parquet:   0%|          | 0.00/109M [00:00<?, ?B/s]"
      ]
     },
     "metadata": {},
     "output_type": "display_data"
    },
    {
     "data": {
      "application/vnd.jupyter.widget-view+json": {
       "model_id": "fc7483c084514a99b882163003970f4d",
       "version_major": 2,
       "version_minor": 0
      },
      "text/plain": [
       "validation-00036-of-00068.parquet:   0%|          | 0.00/105M [00:00<?, ?B/s]"
      ]
     },
     "metadata": {},
     "output_type": "display_data"
    },
    {
     "data": {
      "application/vnd.jupyter.widget-view+json": {
       "model_id": "5e5250ee91fe4eae8b8dcc33c650f526",
       "version_major": 2,
       "version_minor": 0
      },
      "text/plain": [
       "validation-00037-of-00068.parquet:   0%|          | 0.00/106M [00:00<?, ?B/s]"
      ]
     },
     "metadata": {},
     "output_type": "display_data"
    },
    {
     "data": {
      "application/vnd.jupyter.widget-view+json": {
       "model_id": "14938b6fff7d4b99b9a37b971a750bfa",
       "version_major": 2,
       "version_minor": 0
      },
      "text/plain": [
       "validation-00038-of-00068.parquet:   0%|          | 0.00/103M [00:00<?, ?B/s]"
      ]
     },
     "metadata": {},
     "output_type": "display_data"
    },
    {
     "data": {
      "application/vnd.jupyter.widget-view+json": {
       "model_id": "1065f750bbac4f07bc8fa3868d310deb",
       "version_major": 2,
       "version_minor": 0
      },
      "text/plain": [
       "validation-00039-of-00068.parquet:   0%|          | 0.00/98.3M [00:00<?, ?B/s]"
      ]
     },
     "metadata": {},
     "output_type": "display_data"
    },
    {
     "data": {
      "application/vnd.jupyter.widget-view+json": {
       "model_id": "7f6303759fb34e30933955f5750f57f2",
       "version_major": 2,
       "version_minor": 0
      },
      "text/plain": [
       "validation-00040-of-00068.parquet:   0%|          | 0.00/106M [00:00<?, ?B/s]"
      ]
     },
     "metadata": {},
     "output_type": "display_data"
    },
    {
     "data": {
      "application/vnd.jupyter.widget-view+json": {
       "model_id": "815f18fb622049738209695e11a5bebe",
       "version_major": 2,
       "version_minor": 0
      },
      "text/plain": [
       "validation-00041-of-00068.parquet:   0%|          | 0.00/103M [00:00<?, ?B/s]"
      ]
     },
     "metadata": {},
     "output_type": "display_data"
    },
    {
     "data": {
      "application/vnd.jupyter.widget-view+json": {
       "model_id": "918226acf3d9472c97c30110a8bbd6b9",
       "version_major": 2,
       "version_minor": 0
      },
      "text/plain": [
       "validation-00042-of-00068.parquet:   0%|          | 0.00/101M [00:00<?, ?B/s]"
      ]
     },
     "metadata": {},
     "output_type": "display_data"
    },
    {
     "data": {
      "application/vnd.jupyter.widget-view+json": {
       "model_id": "b3508bbd9c44479bab572a3c5d9f394c",
       "version_major": 2,
       "version_minor": 0
      },
      "text/plain": [
       "validation-00043-of-00068.parquet:   0%|          | 0.00/101M [00:00<?, ?B/s]"
      ]
     },
     "metadata": {},
     "output_type": "display_data"
    },
    {
     "data": {
      "application/vnd.jupyter.widget-view+json": {
       "model_id": "5ee228c7d8d04f65b934e6ed100ebb60",
       "version_major": 2,
       "version_minor": 0
      },
      "text/plain": [
       "validation-00044-of-00068.parquet:   0%|          | 0.00/92.7M [00:00<?, ?B/s]"
      ]
     },
     "metadata": {},
     "output_type": "display_data"
    },
    {
     "data": {
      "application/vnd.jupyter.widget-view+json": {
       "model_id": "3aa562f2bdee4b289db402a83bbf4162",
       "version_major": 2,
       "version_minor": 0
      },
      "text/plain": [
       "validation-00045-of-00068.parquet:   0%|          | 0.00/108M [00:00<?, ?B/s]"
      ]
     },
     "metadata": {},
     "output_type": "display_data"
    },
    {
     "data": {
      "application/vnd.jupyter.widget-view+json": {
       "model_id": "b1d30b8e238a4a1c80bbe00f7d8ab5aa",
       "version_major": 2,
       "version_minor": 0
      },
      "text/plain": [
       "validation-00046-of-00068.parquet:   0%|          | 0.00/97.9M [00:00<?, ?B/s]"
      ]
     },
     "metadata": {},
     "output_type": "display_data"
    },
    {
     "data": {
      "application/vnd.jupyter.widget-view+json": {
       "model_id": "cb866dccd66945efaa45033d7363772b",
       "version_major": 2,
       "version_minor": 0
      },
      "text/plain": [
       "validation-00047-of-00068.parquet:   0%|          | 0.00/103M [00:00<?, ?B/s]"
      ]
     },
     "metadata": {},
     "output_type": "display_data"
    },
    {
     "data": {
      "application/vnd.jupyter.widget-view+json": {
       "model_id": "7ef6125c89524ef28416f8cbe412cb9b",
       "version_major": 2,
       "version_minor": 0
      },
      "text/plain": [
       "validation-00048-of-00068.parquet:   0%|          | 0.00/103M [00:00<?, ?B/s]"
      ]
     },
     "metadata": {},
     "output_type": "display_data"
    },
    {
     "data": {
      "application/vnd.jupyter.widget-view+json": {
       "model_id": "bdef643b21c44fefa1b7001e61c30048",
       "version_major": 2,
       "version_minor": 0
      },
      "text/plain": [
       "validation-00049-of-00068.parquet:   0%|          | 0.00/105M [00:00<?, ?B/s]"
      ]
     },
     "metadata": {},
     "output_type": "display_data"
    },
    {
     "data": {
      "application/vnd.jupyter.widget-view+json": {
       "model_id": "dae0b4be909145579116a4748cd38297",
       "version_major": 2,
       "version_minor": 0
      },
      "text/plain": [
       "validation-00050-of-00068.parquet:   0%|          | 0.00/99.8M [00:00<?, ?B/s]"
      ]
     },
     "metadata": {},
     "output_type": "display_data"
    }
   ],
   "source": [
    "from datasets import load_dataset\n",
    "\n",
    "ds = load_dataset(\"lmms-lab/VQAv2\")"
   ]
  },
  {
   "cell_type": "code",
   "execution_count": 24,
   "id": "a8ef1ce9-4f21-4cca-aa55-2ca3bcd8acc2",
   "metadata": {},
   "outputs": [
    {
     "data": {
      "text/plain": [
       "dict_keys(['validation', 'testdev', 'test'])"
      ]
     },
     "execution_count": 24,
     "metadata": {},
     "output_type": "execute_result"
    }
   ],
   "source": [
    "ds.keys()"
   ]
  },
  {
   "cell_type": "code",
   "execution_count": 27,
   "id": "8c7ec4ed-0053-4c43-b6c3-9536cf2f660d",
   "metadata": {},
   "outputs": [],
   "source": [
    "val_set = ds['validation']\n",
    "testdev_set = ds['testdev']\n",
    "test_set = ds['test']"
   ]
  },
  {
   "cell_type": "code",
   "execution_count": 28,
   "id": "6ba34d2a-64e1-4517-a7fa-5633ae375c5b",
   "metadata": {},
   "outputs": [
    {
     "name": "stdout",
     "output_type": "stream",
     "text": [
      "214354\n",
      "107394\n",
      "447793\n"
     ]
    }
   ],
   "source": [
    "print(len(val_set))\n",
    "print(len(testdev_set))\n",
    "print(len(test_set))"
   ]
  },
  {
   "cell_type": "code",
   "execution_count": 35,
   "id": "05cd86b5-7235-4236-bcba-2cbd45914235",
   "metadata": {},
   "outputs": [
    {
     "data": {
      "text/plain": [
       "{'question_type': 'none of the above',\n",
       " 'multiple_choice_answer': 'down',\n",
       " 'answers': [{'answer': 'down', 'answer_confidence': 'yes', 'answer_id': 1},\n",
       "  {'answer': 'down', 'answer_confidence': 'yes', 'answer_id': 2},\n",
       "  {'answer': 'at table', 'answer_confidence': 'yes', 'answer_id': 3},\n",
       "  {'answer': 'skateboard', 'answer_confidence': 'yes', 'answer_id': 4},\n",
       "  {'answer': 'down', 'answer_confidence': 'yes', 'answer_id': 5},\n",
       "  {'answer': 'table', 'answer_confidence': 'yes', 'answer_id': 6},\n",
       "  {'answer': 'down', 'answer_confidence': 'yes', 'answer_id': 7},\n",
       "  {'answer': 'down', 'answer_confidence': 'yes', 'answer_id': 8},\n",
       "  {'answer': 'down', 'answer_confidence': 'yes', 'answer_id': 9},\n",
       "  {'answer': 'down', 'answer_confidence': 'yes', 'answer_id': 10}],\n",
       " 'image_id': 262148,\n",
       " 'answer_type': 'other',\n",
       " 'question_id': 262148000,\n",
       " 'question': 'Where is he looking?',\n",
       " 'image': <PIL.JpegImagePlugin.JpegImageFile image mode=RGB size=640x512>}"
      ]
     },
     "execution_count": 35,
     "metadata": {},
     "output_type": "execute_result"
    }
   ],
   "source": [
    "val_set[0]"
   ]
  },
  {
   "cell_type": "code",
   "execution_count": 32,
   "id": "7df8dc6d-e46a-4648-98fc-18fa85299b7f",
   "metadata": {},
   "outputs": [
    {
     "data": {
      "text/plain": [
       "{'question_type': None,\n",
       " 'multiple_choice_answer': None,\n",
       " 'answers': None,\n",
       " 'image_id': 262144,\n",
       " 'answer_type': None,\n",
       " 'question_id': 262144003,\n",
       " 'question': 'Is the pitcher wearing a hat?',\n",
       " 'image': <PIL.JpegImagePlugin.JpegImageFile image mode=RGB size=640x480>}"
      ]
     },
     "execution_count": 32,
     "metadata": {},
     "output_type": "execute_result"
    }
   ],
   "source": [
    "testdev_set[1]"
   ]
  },
  {
   "cell_type": "code",
   "execution_count": 31,
   "id": "ea25820e-4b90-41c0-b187-ae131cbc2463",
   "metadata": {},
   "outputs": [
    {
     "data": {
      "text/plain": [
       "{'question_type': None,\n",
       " 'multiple_choice_answer': None,\n",
       " 'answers': None,\n",
       " 'image_id': 262144,\n",
       " 'answer_type': None,\n",
       " 'question_id': 262144000,\n",
       " 'question': 'Is the ball flying towards the batter?',\n",
       " 'image': <PIL.JpegImagePlugin.JpegImageFile image mode=RGB size=640x480>}"
      ]
     },
     "execution_count": 31,
     "metadata": {},
     "output_type": "execute_result"
    }
   ],
   "source": [
    "test_set[0]"
   ]
  },
  {
   "cell_type": "code",
   "execution_count": 17,
   "id": "c0dedcbd-f872-40e0-88de-5c707a5f7bb0",
   "metadata": {},
   "outputs": [
    {
     "name": "stdout",
     "output_type": "stream",
     "text": [
      "Number of unique multiple_choice_answers: 14008\n"
     ]
    }
   ],
   "source": [
    "# Assuming val_set is a list of dictionary entries similar to the one you provided\n",
    "unique_answers = set()  # Using a set to store unique answers\n",
    "\n",
    "for item in val_set:\n",
    "    # Add theunique_answers multiple choice answer to the set\n",
    "    unique_answers.add(item['multiple_choice_answer'].lower())\n",
    "\n",
    "# The number of unique multiple_choice_answer values\n",
    "num_unique_answers = len(unique_answers)\n",
    "\n",
    "# Print the unique answers and their count\n",
    "# print(\"Unique multiple_choice_answers:\", unique_answers)\n",
    "print(\"Number of unique multiple_choice_answers:\", num_unique_answers)\n"
   ]
  },
  {
   "cell_type": "code",
   "execution_count": 18,
   "id": "6929ac82-a7d6-414d-ab6b-7a3777245101",
   "metadata": {},
   "outputs": [
    {
     "data": {
      "text/plain": [
       "True"
      ]
     },
     "execution_count": 18,
     "metadata": {},
     "output_type": "execute_result"
    }
   ],
   "source": [
    "\n",
    "'yes' in unique_answers"
   ]
  },
  {
   "cell_type": "code",
   "execution_count": 19,
   "id": "3563fbc1-3b1a-45e9-a047-ed73b1da7f1d",
   "metadata": {},
   "outputs": [
    {
     "data": {
      "text/plain": [
       "False"
      ]
     },
     "execution_count": 19,
     "metadata": {},
     "output_type": "execute_result"
    }
   ],
   "source": [
    "'Yes' in unique_answers"
   ]
  },
  {
   "cell_type": "code",
   "execution_count": 21,
   "id": "649ffae4-b244-48c0-be9c-8c1b076b01fd",
   "metadata": {},
   "outputs": [
    {
     "name": "stdout",
     "output_type": "stream",
     "text": [
      "other: 105679\n",
      "yes/no: 80541\n",
      "number: 28134\n"
     ]
    }
   ],
   "source": [
    "from collections import Counter\n",
    "\n",
    "# Count all answer types in one line\n",
    "answer_types = Counter(item['answer_type'] for item in val_set)\n",
    "\n",
    "# Print results\n",
    "for ans_type, count in answer_types.items():\n",
    "    print(f\"{ans_type}: {count}\")"
   ]
  },
  {
   "cell_type": "code",
   "execution_count": 22,
   "id": "7d0554eb-1f9c-4886-9756-82e39b010648",
   "metadata": {},
   "outputs": [
    {
     "data": {
      "application/vnd.jupyter.widget-view+json": {
       "model_id": "d63672e8603a40469346e3a093280a30",
       "version_major": 2,
       "version_minor": 0
      },
      "text/plain": [
       "Resolving data files:   0%|          | 0/68 [00:00<?, ?it/s]"
      ]
     },
     "metadata": {},
     "output_type": "display_data"
    },
    {
     "data": {
      "application/vnd.jupyter.widget-view+json": {
       "model_id": "8c1e234a730e422682989517d05ba8c7",
       "version_major": 2,
       "version_minor": 0
      },
      "text/plain": [
       "Resolving data files:   0%|          | 0/36 [00:00<?, ?it/s]"
      ]
     },
     "metadata": {},
     "output_type": "display_data"
    },
    {
     "data": {
      "application/vnd.jupyter.widget-view+json": {
       "model_id": "2e1403c14b5c418ebc0e87ebcefdff02",
       "version_major": 2,
       "version_minor": 0
      },
      "text/plain": [
       "Resolving data files:   0%|          | 0/143 [00:00<?, ?it/s]"
      ]
     },
     "metadata": {},
     "output_type": "display_data"
    },
    {
     "data": {
      "application/vnd.jupyter.widget-view+json": {
       "model_id": "05d6561f21a24e8586823d9da55cdd91",
       "version_major": 2,
       "version_minor": 0
      },
      "text/plain": [
       "Resolving data files:   0%|          | 0/68 [00:00<?, ?it/s]"
      ]
     },
     "metadata": {},
     "output_type": "display_data"
    },
    {
     "data": {
      "application/vnd.jupyter.widget-view+json": {
       "model_id": "f2edfa35486545d7abd13c0405d7a2ac",
       "version_major": 2,
       "version_minor": 0
      },
      "text/plain": [
       "Resolving data files:   0%|          | 0/36 [00:00<?, ?it/s]"
      ]
     },
     "metadata": {},
     "output_type": "display_data"
    },
    {
     "data": {
      "application/vnd.jupyter.widget-view+json": {
       "model_id": "da6a567fd56145588986f45f4b5bce57",
       "version_major": 2,
       "version_minor": 0
      },
      "text/plain": [
       "Resolving data files:   0%|          | 0/143 [00:00<?, ?it/s]"
      ]
     },
     "metadata": {},
     "output_type": "display_data"
    },
    {
     "data": {
      "application/vnd.jupyter.widget-view+json": {
       "model_id": "7d7cc7dd296a4dd89d0f835b60330103",
       "version_major": 2,
       "version_minor": 0
      },
      "text/plain": [
       "Loading dataset shards:   0%|          | 0/67 [00:00<?, ?it/s]"
      ]
     },
     "metadata": {},
     "output_type": "display_data"
    },
    {
     "data": {
      "application/vnd.jupyter.widget-view+json": {
       "model_id": "3c18a1d830554735b4d61fe63d3fe9a5",
       "version_major": 2,
       "version_minor": 0
      },
      "text/plain": [
       "Loading dataset shards:   0%|          | 0/34 [00:00<?, ?it/s]"
      ]
     },
     "metadata": {},
     "output_type": "display_data"
    },
    {
     "data": {
      "application/vnd.jupyter.widget-view+json": {
       "model_id": "aac05cd976b84ac5911d7a199f453686",
       "version_major": 2,
       "version_minor": 0
      },
      "text/plain": [
       "Loading dataset shards:   0%|          | 0/139 [00:00<?, ?it/s]"
      ]
     },
     "metadata": {},
     "output_type": "display_data"
    },
    {
     "name": "stdout",
     "output_type": "stream",
     "text": [
      "Number of top answers: 3129\n"
     ]
    }
   ],
   "source": [
    "from collections import defaultdict\n",
    "from datasets import load_dataset\n",
    "\n",
    "ds = load_dataset(\"lmms-lab/VQAv2\")\n",
    "\n",
    "val_set = ds['validation']\n",
    "\n",
    "# Count answer frequencies\n",
    "answer_freq = defaultdict(int)\n",
    "\n",
    "# Loop through training set\n",
    "for item in ds['validation']:\n",
    "    # Get the most common answer for each question\n",
    "    answer = item['multiple_choice_answer']\n",
    "    answer_freq[answer] += 1\n",
    "\n",
    "# Sort by frequency\n",
    "sorted_answers = sorted(answer_freq.items(), key=lambda x: x[1], reverse=True)\n",
    "\n",
    "# Get top 3129 answers\n",
    "top_answers = set(ans for ans, freq in sorted_answers[:3129])\n",
    "print(f\"Number of top answers: {len(top_answers)}\")"
   ]
  },
  {
   "cell_type": "code",
   "execution_count": null,
   "id": "1f648f8f-cad1-4ca8-839f-5b67629e2c46",
   "metadata": {},
   "outputs": [],
   "source": [
    "import matplotlib.pyplot as plt\n",
    "import numpy as np\n",
    "\n",
    "# Get frequencies only\n",
    "frequencies = [freq for _, freq in sorted_answers]\n",
    "\n",
    "# Calculate cumulative distribution\n",
    "cum_freq = np.cumsum(frequencies)\n",
    "cum_percentage = (cum_freq / cum_freq[-1]) * 100\n",
    "\n",
    "# Create the plot\n",
    "plt.figure(figsize=(12, 6))\n",
    "\n",
    "# Plot frequency distribution\n",
    "plt.subplot(1, 2, 1)\n",
    "plt.plot(frequencies[:100])  # Plot top 100 for better visibility\n",
    "plt.title('Top 100 Answer Frequencies')\n",
    "plt.xlabel('Answer Rank')\n",
    "plt.ylabel('Frequency')\n",
    "plt.grid(True)\n",
    "\n",
    "# Plot cumulative distribution\n",
    "plt.subplot(1, 2, 2)\n",
    "plt.plot(cum_percentage)\n",
    "plt.axvline(x=3129, color='r', linestyle='--', label='3129 classes')\n",
    "plt.title('Cumulative Coverage')\n",
    "plt.xlabel('Number of Answer Classes')\n",
    "plt.ylabel('Cumulative Coverage (%)')\n",
    "plt.grid(True)\n",
    "plt.legend()\n",
    "\n",
    "# Show the plot\n",
    "plt.tight_layout()\n",
    "plt.show()\n",
    "\n",
    "# Print some statistics\n",
    "print(f\"Coverage at 3129 classes: {cum_percentage[3128]:.2f}%\")\n",
    "print(f\"Total unique answers: {len(frequencies)}\")\n",
    "print(f\"Top 10 answers and their frequencies:\")\n",
    "for ans, freq in sorted_answers[:10]:\n",
    "    print(f\"{ans}: {freq}\")"
   ]
  },
  {
   "cell_type": "code",
   "execution_count": null,
   "id": "05cb2415-f181-4d3b-a494-7ef33d2ce121",
   "metadata": {},
   "outputs": [],
   "source": []
  }
 ],
 "metadata": {
  "kernelspec": {
   "display_name": "Python 3 (ipykernel)",
   "language": "python",
   "name": "python3"
  },
  "language_info": {
   "codemirror_mode": {
    "name": "ipython",
    "version": 3
   },
   "file_extension": ".py",
   "mimetype": "text/x-python",
   "name": "python",
   "nbconvert_exporter": "python",
   "pygments_lexer": "ipython3",
   "version": "3.11.0rc1"
  }
 },
 "nbformat": 4,
 "nbformat_minor": 5
}
